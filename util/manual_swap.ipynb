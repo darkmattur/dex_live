{
 "cells": [
  {
   "cell_type": "code",
   "execution_count": null,
   "metadata": {
    "collapsed": true,
    "ExecuteTime": {
     "end_time": "2023-10-27T12:49:09.455884700Z",
     "start_time": "2023-10-27T12:49:09.450920100Z"
    }
   },
   "outputs": [],
   "source": [
    "import time\n",
    "\n",
    "from dex_live.chain import ChainManager\n",
    "from dex_live.exchange import CamelotV3"
   ]
  },
  {
   "cell_type": "code",
   "execution_count": null,
   "outputs": [],
   "source": [
    "chain = ChainManager().get_chain('arbitrum')"
   ],
   "metadata": {
    "collapsed": false,
    "ExecuteTime": {
     "end_time": "2023-10-27T12:49:12.051232900Z",
     "start_time": "2023-10-27T12:49:12.035415600Z"
    }
   }
  },
  {
   "cell_type": "code",
   "execution_count": null,
   "outputs": [],
   "source": [
    "wallet = chain.get_wallet('basic01')\n",
    "wallet.balance['USDT']"
   ],
   "metadata": {
    "collapsed": false,
    "ExecuteTime": {
     "end_time": "2023-10-27T12:49:14.312363300Z",
     "start_time": "2023-10-27T12:49:14.291700700Z"
    }
   }
  },
  {
   "cell_type": "code",
   "execution_count": null,
   "outputs": [],
   "source": [
    "dex = CamelotV3(chain)\n",
    "pool = dex.get_pool('USDT', 'USDC')"
   ],
   "metadata": {
    "collapsed": false,
    "ExecuteTime": {
     "end_time": "2023-10-27T12:49:22.405203200Z",
     "start_time": "2023-10-27T12:49:21.285665700Z"
    }
   }
  },
  {
   "cell_type": "code",
   "execution_count": null,
   "outputs": [],
   "source": [
    "long, short = pool.get_edges()\n",
    "long.rate"
   ],
   "metadata": {
    "collapsed": false
   }
  },
  {
   "cell_type": "code",
   "execution_count": null,
   "outputs": [],
   "source": [
    "start = time.time()\n",
    "\n",
    "token1, token0, fee = 'USDT', 'USDC', 1\n",
    "pool = dex.get_pool(token1, token0, fee)\n",
    "e_long, e_short = pool.get_edges()\n",
    "\n",
    "e_short.preapprove(wallet)\n",
    "print(e_short.swap(wallet=wallet, amount=5.0))\n",
    "\n",
    "end = time.time()\n",
    "\n",
    "print('time taken: ', end - start)"
   ],
   "metadata": {
    "collapsed": false,
    "ExecuteTime": {
     "end_time": "2023-10-27T12:57:30.790250700Z",
     "start_time": "2023-10-27T12:57:23.785792700Z"
    }
   }
  }
 ],
 "metadata": {
  "kernelspec": {
   "display_name": "Python 3",
   "language": "python",
   "name": "python3"
  },
  "language_info": {
   "codemirror_mode": {
    "name": "ipython",
    "version": 2
   },
   "file_extension": ".py",
   "mimetype": "text/x-python",
   "name": "python",
   "nbconvert_exporter": "python",
   "pygments_lexer": "ipython2",
   "version": "2.7.6"
  }
 },
 "nbformat": 4,
 "nbformat_minor": 0
}
