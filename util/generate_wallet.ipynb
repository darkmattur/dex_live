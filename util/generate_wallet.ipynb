{
 "cells": [
  {
   "cell_type": "code",
   "execution_count": null,
   "outputs": [],
   "source": [
    "% pip install coincurve\n",
    "% pip install sha3"
   ],
   "metadata": {
    "collapsed": false
   }
  },
  {
   "cell_type": "code",
   "execution_count": null,
   "metadata": {
    "collapsed": true
   },
   "outputs": [],
   "source": [
    "from coincurve import PublicKey\n",
    "from sha3 import keccak_256\n",
    "import web3"
   ]
  },
  {
   "cell_type": "code",
   "execution_count": null,
   "outputs": [],
   "source": [
    "base_string = 'Random String 1234'"
   ],
   "metadata": {
    "collapsed": false
   }
  },
  {
   "cell_type": "code",
   "execution_count": null,
   "outputs": [],
   "source": [
    "private_key = keccak_256(bytes(base_string, 'utf-8')).digest()\n",
    "public_key = PublicKey.from_valid_secret(private_key).format(compressed=False)[1:]\n",
    "address = keccak_256(public_key).digest()[-20:]\n",
    "\n",
    "print(f'Public Key:', public_key.hex())\n",
    "print('Private Key:', private_key.hex())\n",
    "print('Address:', web3.Web3.to_checksum_address(f'0x{address.hex()}'))"
   ],
   "metadata": {
    "collapsed": false
   }
  }
 ],
 "metadata": {
  "kernelspec": {
   "display_name": "Python 3",
   "language": "python",
   "name": "python3"
  },
  "language_info": {
   "codemirror_mode": {
    "name": "ipython",
    "version": 2
   },
   "file_extension": ".py",
   "mimetype": "text/x-python",
   "name": "python",
   "nbconvert_exporter": "python",
   "pygments_lexer": "ipython2",
   "version": "2.7.6"
  }
 },
 "nbformat": 4,
 "nbformat_minor": 0
}
